{
 "cells": [
  {
   "cell_type": "code",
   "execution_count": 5,
   "metadata": {},
   "outputs": [
    {
     "name": "stdout",
     "output_type": "stream",
     "text": [
      "200000\n"
     ]
    }
   ],
   "source": [
    "import asyncio\n",
    "\n",
    "#mutex lock (so async tasks are atomic)\n",
    "lock = asyncio.Lock()\n",
    "\n",
    "async def increment(person1, person2):\n",
    "    for i in range(10000):\n",
    "        async with lock:\n",
    "            person1 -= 1\n",
    "            person2 += 1\n",
    "\n",
    "async def decrement(person2):\n",
    "    for i in range(10000):\n",
    "        async with lock:\n",
    "            person2 -= 1\n",
    "\n",
    "async def main():\n",
    "    mina = 100_000\n",
    "    chadillac = 100_000\n",
    "    total = mina + chadillac\n",
    "\n",
    "    task1 = asyncio.create_task(\n",
    "        increment(mina, chadillac))\n",
    "\n",
    "    task2 = asyncio.create_task(\n",
    "        decrement(chadillac))\n",
    "\n",
    "    #await reqires both tasks to complete before the program continues\n",
    "    await task1\n",
    "    await task2\n",
    "\n",
    "    print(total)\n",
    "  \n",
    " #note this must be asyncio.run(main()) in regular terminal\n",
    "await main()"
   ]
  },
  {
   "cell_type": "code",
   "execution_count": null,
   "metadata": {},
   "outputs": [],
   "source": []
  },
  {
   "cell_type": "code",
   "execution_count": null,
   "metadata": {},
   "outputs": [],
   "source": []
  }
 ],
 "metadata": {
  "kernelspec": {
   "display_name": "Python 3",
   "language": "python",
   "name": "python3"
  },
  "language_info": {
   "codemirror_mode": {
    "name": "ipython",
    "version": 3
   },
   "file_extension": ".py",
   "mimetype": "text/x-python",
   "name": "python",
   "nbconvert_exporter": "python",
   "pygments_lexer": "ipython3",
   "version": "3.8.5"
  }
 },
 "nbformat": 4,
 "nbformat_minor": 4
}
